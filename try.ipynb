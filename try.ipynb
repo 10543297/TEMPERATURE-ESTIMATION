{
 "cells": [
  {
   "cell_type": "markdown",
   "id": "f125936a",
   "metadata": {},
   "source": [
    "libraries"
   ]
  },
  {
   "cell_type": "code",
   "execution_count": 13,
   "id": "61f75ad0",
   "metadata": {},
   "outputs": [
    {
     "name": "stdout",
     "output_type": "stream",
     "text": [
      "Requirement already satisfied: data in c:\\users\\utente\\appdata\\local\\programs\\python\\python39\\lib\\site-packages (0.4)\n",
      "Requirement already satisfied: six in c:\\users\\utente\\appdata\\roaming\\python\\python39\\site-packages (from data) (1.17.0)\n",
      "Requirement already satisfied: decorator in c:\\users\\utente\\appdata\\roaming\\python\\python39\\site-packages (from data) (5.1.1)\n",
      "Requirement already satisfied: funcsigs in c:\\users\\utente\\appdata\\local\\programs\\python\\python39\\lib\\site-packages (from data) (1.0.2)\n",
      "Note: you may need to restart the kernel to use updated packages.\n"
     ]
    },
    {
     "name": "stderr",
     "output_type": "stream",
     "text": [
      "WARNING: You are using pip version 20.2.3; however, version 25.2 is available.\n",
      "You should consider upgrading via the 'c:\\Users\\utente\\AppData\\Local\\Programs\\Python\\Python39\\python.exe -m pip install --upgrade pip' command.\n"
     ]
    }
   ],
   "source": [
    "import numpy as np\n",
    "import matplotlib\n",
    "matplotlib.use('TkAgg')\n",
    "import matplotlib.pyplot as plt\n",
    "import cv2\n",
    "%pip install data"
   ]
  },
  {
   "cell_type": "code",
   "execution_count": 14,
   "id": "3d39ce5a",
   "metadata": {},
   "outputs": [],
   "source": [
    "# Load the pre-trained face and smile cascade classifiers\n",
    "face_cascade = cv2.CascadeClassifier(cv2.data.haarcascades + 'haarcascade_frontalface_default.xml')\n",
    "\n",
    "# Start the video capture (use webcam)\n",
    "cap = cv2.VideoCapture(0)\n",
    "\n",
    "while True:\n",
    "    ret, frame = cap.read()\n",
    "    if not ret:\n",
    "        break\n",
    "\n",
    "    gray = cv2.cvtColor(frame, cv2.COLOR_BGR2GRAY)\n",
    "\n",
    "    # Apply Gaussian blur to reduce noise\n",
    "    gray = cv2.GaussianBlur(gray, (5, 5), 0.5)\n",
    "\n",
    "    # Detect faces\n",
    "    faces = face_cascade.detectMultiScale(gray, 1.1, 3,minSize=(100, 100))\n",
    "\n",
    "    for (x, y, w, h) in faces:\n",
    "        # Draw rectangle around face\n",
    "        cv2.rectangle(frame, (x, y), (x + w, y + h), (0, 255, 0), 2)\n",
    "\n",
    "        # Region of interest (ROI) for forehead detection\n",
    "        x_forehead = x+int(w*0.1)\n",
    "        w_forehead = int(w*0.8)\n",
    "        y_forehead = y + int(h*0.05)\n",
    "        h_forehead = int(h*0.2)\n",
    "        forehead_region = gray[y_forehead:y_forehead + h_forehead, x_forehead:x_forehead + w_forehead] # Region around the forehead\n",
    "        # Convert forehead ROI to grayscale and calculate average intensity\n",
    "        intensity = np.mean(forehead_region)\n",
    "        #show intensity\n",
    "        cv2.putText(frame, f\"Lum: {int(intensity)}\", (x_forehead, y_forehead - 10), cv2.FONT_HERSHEY_SIMPLEX, 0.6, (255, 0, 0), 2)\n",
    "\n",
    "\n",
    "        # Draw rectangle around the forehead\n",
    "        cv2.rectangle(frame, (x_forehead, y_forehead), (x_forehead+w_forehead, y_forehead + h_forehead), (0, 0, 255), 2)\n",
    "\n",
    "        \n",
    "    # Display the resulting frame\n",
    "    cv2.imshow(\"Forehead frame\", frame)\n",
    "\n",
    "    # Break the loop on 'q' key press\n",
    "    if cv2.waitKey(1) & 0xFF == ord('q'):\n",
    "        break\n",
    "\n",
    "cap.release()\n",
    "cv2.destroyAllWindows()\n"
   ]
  },
  {
   "cell_type": "markdown",
   "id": "b0ae535c",
   "metadata": {},
   "source": [
    "Definition for temperature "
   ]
  },
  {
   "cell_type": "code",
   "execution_count": 15,
   "id": "274f8d9c",
   "metadata": {},
   "outputs": [],
   "source": [
    "def get_face_temperatures(self, faces, thermal_data):\n",
    "        \"\"\"Calculate temperature stats for each forehead region\"\"\"\n",
    "        temp_stats = []\n",
    "        for (x, y, w, h) in faces:\n",
    "            # Define forehead region (upper middle part of the face)\n",
    "            fx = x + int(w * 0.1)\n",
    "            fw = int(w * 0.8)\n",
    "            fy = y + int(h * 0.05)\n",
    "            fh = int(h * 0.2)\n",
    "            \n",
    "            forehead_region = thermal_data[fy:fy+fh, fx:fx+fw]\n",
    "            temp_stats.append({\n",
    "                'max': np.max(forehead_region),\n",
    "                'min': np.min(forehead_region),\n",
    "                'mean': np.mean(forehead_region),\n",
    "                'median': np.median(forehead_region),\n",
    "                'face_roi': (x, y, w, h),\n",
    "                'forehead_roi': (fx, fy, fw, fh),\n",
    "                'face_roi_image': (scale_factor*x, scale_factor*y, scale_factor*w, scale_factor*h),\n",
    "                'forehead_roi_image': (scale_factor*fx, scale_factor*fy, scale_factor*fw, scale_factor*fh)\n",
    "            })\n",
    "        return temp_stats\n",
    "    "
   ]
  },
  {
   "cell_type": "markdown",
   "id": "ce5c8df4",
   "metadata": {},
   "source": [
    "Only it is said that it should be useful to have real IR sensor  or termocamera but i can use an arbitrary mapping of this  value\n"
   ]
  },
  {
   "cell_type": "code",
   "execution_count": 16,
   "id": "78a0d3c6",
   "metadata": {},
   "outputs": [],
   "source": [
    "temp = 34 + (intensity / 255.0) * 4 \n",
    "\n"
   ]
  },
  {
   "cell_type": "markdown",
   "id": "5928ee38",
   "metadata": {},
   "source": [
    "<hr>    NEED TO SEE THE ESTIMATED TEMPERATURE <HR>\n"
   ]
  },
  {
   "cell_type": "code",
   "execution_count": 17,
   "id": "4c01f16d",
   "metadata": {},
   "outputs": [],
   "source": [
    "# Load the pre-trained face and smile cascade classifiers\n",
    "face_cascade = cv2.CascadeClassifier(cv2.data.haarcascades + 'haarcascade_frontalface_default.xml')\n",
    "\n",
    "# Start the video capture (use webcam)\n",
    "cap = cv2.VideoCapture(0)\n",
    "\n",
    "while True:\n",
    "    ret, frame = cap.read()\n",
    "    if not ret:\n",
    "        break\n",
    "\n",
    "    gray = cv2.cvtColor(frame, cv2.COLOR_BGR2GRAY)\n",
    "\n",
    "    # Apply Gaussian blur to reduce noise\n",
    "    gray = cv2.GaussianBlur(gray, (5, 5), 0.5)\n",
    "\n",
    "    # Detect faces\n",
    "    faces = face_cascade.detectMultiScale(gray, 1.1, 3,minSize=(100, 100))\n",
    "\n",
    "    for (x, y, w, h) in faces:\n",
    "        # Draw rectangle around face\n",
    "        cv2.rectangle(frame, (x, y), (x + w, y + h), (0, 255, 0), 2)\n",
    "\n",
    "        # Region of interest (ROI) for forehead detection\n",
    "        x_forehead = x+int(w*0.1)\n",
    "        w_forehead = int(w*0.8)\n",
    "        y_forehead = y + int(h*0.05)\n",
    "        h_forehead = int(h*0.2)\n",
    "        forehead_region = gray[y_forehead:y_forehead + h_forehead, x_forehead:x_forehead + w_forehead] # Region around the forehead\n",
    "        # Convert forehead ROI to grayscale and calculate average intensity\n",
    "        intensity = np.mean(forehead_region)\n",
    "        #temperature\n",
    "        temp = 34 + (intensity / 255.0) * 4 \n",
    "        #show intensity\n",
    "        cv2.putText(frame, f\"Temp: {int(temp)}\", (x_forehead, y_forehead - 10), cv2.FONT_HERSHEY_SIMPLEX, 0.6, (255, 0, 0), 2)\n",
    "\n",
    "\n",
    "        # Draw rectangle around the forehead\n",
    "        cv2.rectangle(frame, (x_forehead, y_forehead), (x_forehead+w_forehead, y_forehead + h_forehead), (0, 0, 255), 2)\n",
    "\n",
    "        \n",
    "    # Display the resulting frame\n",
    "    cv2.imshow(\"Forehead temp\", frame)\n",
    "\n",
    "    # Break the loop on 'q' key press\n",
    "    if cv2.waitKey(1) & 0xFF == ord('q'):\n",
    "        break\n",
    "\n",
    "cap.release()\n",
    "cv2.destroyAllWindows()\n"
   ]
  },
  {
   "cell_type": "markdown",
   "id": "7447b885",
   "metadata": {},
   "source": [
    "SKELETON "
   ]
  },
  {
   "cell_type": "code",
   "execution_count": 18,
   "id": "8f5f3c99",
   "metadata": {},
   "outputs": [
    {
     "name": "stdout",
     "output_type": "stream",
     "text": [
      "Requirement already satisfied: mediapipe in c:\\users\\utente\\appdata\\local\\programs\\python\\python39\\lib\\site-packages (0.10.21)\n",
      "Requirement already satisfied: sentencepiece in c:\\users\\utente\\appdata\\local\\programs\\python\\python39\\lib\\site-packages (from mediapipe) (0.2.0)\n",
      "Requirement already satisfied: sounddevice>=0.4.4 in c:\\users\\utente\\appdata\\local\\programs\\python\\python39\\lib\\site-packages (from mediapipe) (0.5.1)\n",
      "Requirement already satisfied: matplotlib in c:\\users\\utente\\appdata\\local\\programs\\python\\python39\\lib\\site-packages (from mediapipe) (3.9.4)\n",
      "Requirement already satisfied: attrs>=19.1.0 in c:\\users\\utente\\appdata\\local\\programs\\python\\python39\\lib\\site-packages (from mediapipe) (25.3.0)\n",
      "Requirement already satisfied: absl-py in c:\\users\\utente\\appdata\\local\\programs\\python\\python39\\lib\\site-packages (from mediapipe) (2.2.2)\n",
      "Requirement already satisfied: protobuf<5,>=4.25.3 in c:\\users\\utente\\appdata\\local\\programs\\python\\python39\\lib\\site-packages (from mediapipe) (4.25.6)\n",
      "Requirement already satisfied: opencv-contrib-python in c:\\users\\utente\\appdata\\local\\programs\\python\\python39\\lib\\site-packages (from mediapipe) (4.11.0.86)\n",
      "Requirement already satisfied: jaxlib in c:\\users\\utente\\appdata\\local\\programs\\python\\python39\\lib\\site-packages (from mediapipe) (0.4.30)\n",
      "Requirement already satisfied: flatbuffers>=2.0 in c:\\users\\utente\\appdata\\local\\programs\\python\\python39\\lib\\site-packages (from mediapipe) (25.2.10)\n",
      "Requirement already satisfied: numpy<2 in c:\\users\\utente\\appdata\\local\\programs\\python\\python39\\lib\\site-packages (from mediapipe) (1.26.4)\n",
      "Requirement already satisfied: jax in c:\\users\\utente\\appdata\\local\\programs\\python\\python39\\lib\\site-packages (from mediapipe) (0.4.30)\n",
      "Requirement already satisfied: CFFI>=1.0 in c:\\users\\utente\\appdata\\local\\programs\\python\\python39\\lib\\site-packages (from sounddevice>=0.4.4->mediapipe) (1.15.0)\n",
      "Requirement already satisfied: python-dateutil>=2.7 in c:\\users\\utente\\appdata\\roaming\\python\\python39\\site-packages (from matplotlib->mediapipe) (2.9.0.post0)\n",
      "Requirement already satisfied: importlib-resources>=3.2.0; python_version < \"3.10\" in c:\\users\\utente\\appdata\\local\\programs\\python\\python39\\lib\\site-packages (from matplotlib->mediapipe) (6.5.2)\n",
      "Requirement already satisfied: kiwisolver>=1.3.1 in c:\\users\\utente\\appdata\\local\\programs\\python\\python39\\lib\\site-packages (from matplotlib->mediapipe) (1.4.7)\n",
      "Requirement already satisfied: cycler>=0.10 in c:\\users\\utente\\appdata\\local\\programs\\python\\python39\\lib\\site-packages (from matplotlib->mediapipe) (0.12.1)\n",
      "Requirement already satisfied: fonttools>=4.22.0 in c:\\users\\utente\\appdata\\local\\programs\\python\\python39\\lib\\site-packages (from matplotlib->mediapipe) (4.56.0)\n",
      "Requirement already satisfied: pillow>=8 in c:\\users\\utente\\appdata\\local\\programs\\python\\python39\\lib\\site-packages (from matplotlib->mediapipe) (11.1.0)\n",
      "Requirement already satisfied: pyparsing>=2.3.1 in c:\\users\\utente\\appdata\\local\\programs\\python\\python39\\lib\\site-packages (from matplotlib->mediapipe) (3.2.1)\n",
      "Requirement already satisfied: packaging>=20.0 in c:\\users\\utente\\appdata\\roaming\\python\\python39\\site-packages (from matplotlib->mediapipe) (24.2)\n",
      "Requirement already satisfied: contourpy>=1.0.1 in c:\\users\\utente\\appdata\\local\\programs\\python\\python39\\lib\\site-packages (from matplotlib->mediapipe) (1.3.0)\n",
      "Requirement already satisfied: scipy>=1.9 in c:\\users\\utente\\appdata\\local\\programs\\python\\python39\\lib\\site-packages (from jaxlib->mediapipe) (1.13.1)\n",
      "Requirement already satisfied: ml-dtypes>=0.2.0 in c:\\users\\utente\\appdata\\local\\programs\\python\\python39\\lib\\site-packages (from jaxlib->mediapipe) (0.5.1)\n",
      "Requirement already satisfied: importlib-metadata>=4.6; python_version < \"3.10\" in c:\\users\\utente\\appdata\\roaming\\python\\python39\\site-packages (from jax->mediapipe) (8.5.0)\n",
      "Requirement already satisfied: opt-einsum in c:\\users\\utente\\appdata\\local\\programs\\python\\python39\\lib\\site-packages (from jax->mediapipe) (3.4.0)\n",
      "Requirement already satisfied: pycparser in c:\\users\\utente\\appdata\\local\\programs\\python\\python39\\lib\\site-packages (from CFFI>=1.0->sounddevice>=0.4.4->mediapipe) (2.22)\n",
      "Requirement already satisfied: six>=1.5 in c:\\users\\utente\\appdata\\roaming\\python\\python39\\site-packages (from python-dateutil>=2.7->matplotlib->mediapipe) (1.17.0)\n",
      "Requirement already satisfied: zipp>=3.1.0; python_version < \"3.10\" in c:\\users\\utente\\appdata\\roaming\\python\\python39\\site-packages (from importlib-resources>=3.2.0; python_version < \"3.10\"->matplotlib->mediapipe) (3.21.0)\n",
      "Note: you may need to restart the kernel to use updated packages.\n"
     ]
    },
    {
     "name": "stderr",
     "output_type": "stream",
     "text": [
      "WARNING: You are using pip version 20.2.3; however, version 25.2 is available.\n",
      "You should consider upgrading via the 'c:\\Users\\utente\\AppData\\Local\\Programs\\Python\\Python39\\python.exe -m pip install --upgrade pip' command.\n"
     ]
    }
   ],
   "source": [
    "%pip install mediapipe --pre\n"
   ]
  },
  {
   "cell_type": "code",
   "execution_count": 19,
   "id": "69d2f11f",
   "metadata": {},
   "outputs": [
    {
     "name": "stdout",
     "output_type": "stream",
     "text": [
      "Note: you may need to restart the kernel to use updated packages.Requirement already satisfied: mediapipe in c:\\users\\utente\\appdata\\local\\programs\\python\\python39\\lib\\site-packages (0.10.21)\n",
      "Requirement already satisfied: protobuf<5,>=4.25.3 in c:\\users\\utente\\appdata\\local\\programs\\python\\python39\\lib\\site-packages (from mediapipe) (4.25.6)\n",
      "Requirement already satisfied: opencv-contrib-python in c:\\users\\utente\\appdata\\local\\programs\\python\\python39\\lib\\site-packages (from mediapipe) (4.11.0.86)\n",
      "Requirement already satisfied: sounddevice>=0.4.4 in c:\\users\\utente\\appdata\\local\\programs\\python\\python39\\lib\\site-packages (from mediapipe) (0.5.1)\n",
      "Requirement already satisfied: flatbuffers>=2.0 in c:\\users\\utente\\appdata\\local\\programs\\python\\python39\\lib\\site-packages (from mediapipe) (25.2.10)\n",
      "Requirement already satisfied: matplotlib in c:\\users\\utente\\appdata\\local\\programs\\python\\python39\\lib\\site-packages (from mediapipe) (3.9.4)\n",
      "Requirement already satisfied: sentencepiece in c:\\users\\utente\\appdata\\local\\programs\\python\\python39\\lib\\site-packages (from mediapipe) (0.2.0)\n",
      "Requirement already satisfied: jaxlib in c:\\users\\utente\\appdata\\local\\programs\\python\\python39\\lib\\site-packages (from mediapipe) (0.4.30)\n",
      "Requirement already satisfied: attrs>=19.1.0 in c:\\users\\utente\\appdata\\local\\programs\\python\\python39\\lib\\site-packages (from mediapipe) (25.3.0)\n",
      "Requirement already satisfied: jax in c:\\users\\utente\\appdata\\local\\programs\\python\\python39\\lib\\site-packages (from mediapipe) (0.4.30)\n",
      "Requirement already satisfied: absl-py in c:\\users\\utente\\appdata\\local\\programs\\python\\python39\\lib\\site-packages (from mediapipe) (2.2.2)\n",
      "Requirement already satisfied: numpy<2 in c:\\users\\utente\\appdata\\local\\programs\\python\\python39\\lib\\site-packages (from mediapipe) (1.26.4)\n",
      "Requirement already satisfied: CFFI>=1.0 in c:\\users\\utente\\appdata\\local\\programs\\python\\python39\\lib\\site-packages (from sounddevice>=0.4.4->mediapipe) (1.15.0)\n",
      "Requirement already satisfied: pillow>=8 in c:\\users\\utente\\appdata\\local\\programs\\python\\python39\\lib\\site-packages (from matplotlib->mediapipe) (11.1.0)\n",
      "Requirement already satisfied: fonttools>=4.22.0 in c:\\users\\utente\\appdata\\local\\programs\\python\\python39\\lib\\site-packages (from matplotlib->mediapipe) (4.56.0)\n",
      "Requirement already satisfied: pyparsing>=2.3.1 in c:\\users\\utente\\appdata\\local\\programs\\python\\python39\\lib\\site-packages (from matplotlib->mediapipe) (3.2.1)\n",
      "Requirement already satisfied: cycler>=0.10 in c:\\users\\utente\\appdata\\local\\programs\\python\\python39\\lib\\site-packages (from matplotlib->mediapipe) (0.12.1)\n",
      "Requirement already satisfied: contourpy>=1.0.1 in c:\\users\\utente\\appdata\\local\\programs\\python\\python39\\lib\\site-packages (from matplotlib->mediapipe) (1.3.0)\n",
      "Requirement already satisfied: packaging>=20.0 in c:\\users\\utente\\appdata\\roaming\\python\\python39\\site-packages (from matplotlib->mediapipe) (24.2)\n",
      "Requirement already satisfied: importlib-resources>=3.2.0; python_version < \"3.10\" in c:\\users\\utente\\appdata\\local\\programs\\python\\python39\\lib\\site-packages (from matplotlib->mediapipe) (6.5.2)\n",
      "Requirement already satisfied: python-dateutil>=2.7 in c:\\users\\utente\\appdata\\roaming\\python\\python39\\site-packages (from matplotlib->mediapipe) (2.9.0.post0)\n",
      "Requirement already satisfied: kiwisolver>=1.3.1 in c:\\users\\utente\\appdata\\local\\programs\\python\\python39\\lib\\site-packages (from matplotlib->mediapipe) (1.4.7)\n",
      "Requirement already satisfied: scipy>=1.9 in c:\\users\\utente\\appdata\\local\\programs\\python\\python39\\lib\\site-packages (from jaxlib->mediapipe) (1.13.1)\n",
      "Requirement already satisfied: ml-dtypes>=0.2.0 in c:\\users\\utente\\appdata\\local\\programs\\python\\python39\\lib\\site-packages (from jaxlib->mediapipe) (0.5.1)\n",
      "Requirement already satisfied: opt-einsum in c:\\users\\utente\\appdata\\local\\programs\\python\\python39\\lib\\site-packages (from jax->mediapipe) (3.4.0)\n",
      "Requirement already satisfied: importlib-metadata>=4.6; python_version < \"3.10\" in c:\\users\\utente\\appdata\\roaming\\python\\python39\\site-packages (from jax->mediapipe) (8.5.0)\n",
      "Requirement already satisfied: pycparser in c:\\users\\utente\\appdata\\local\\programs\\python\\python39\\lib\\site-packages (from CFFI>=1.0->sounddevice>=0.4.4->mediapipe) (2.22)\n",
      "Requirement already satisfied: zipp>=3.1.0; python_version < \"3.10\" in c:\\users\\utente\\appdata\\roaming\\python\\python39\\site-packages (from importlib-resources>=3.2.0; python_version < \"3.10\"->matplotlib->mediapipe) (3.21.0)\n",
      "Requirement already satisfied: six>=1.5 in c:\\users\\utente\\appdata\\roaming\\python\\python39\\site-packages (from python-dateutil>=2.7->matplotlib->mediapipe) (1.17.0)\n",
      "\n"
     ]
    },
    {
     "name": "stderr",
     "output_type": "stream",
     "text": [
      "WARNING: You are using pip version 20.2.3; however, version 25.2 is available.\n",
      "You should consider upgrading via the 'c:\\Users\\utente\\AppData\\Local\\Programs\\Python\\Python39\\python.exe -m pip install --upgrade pip' command.\n"
     ]
    }
   ],
   "source": [
    "%pip install mediapipe"
   ]
  },
  {
   "cell_type": "code",
   "execution_count": 20,
   "id": "e1f35276",
   "metadata": {},
   "outputs": [],
   "source": [
    "import cv2\n",
    "import mediapipe as mp\n",
    "import numpy as np\n",
    "\n",
    "# Inizializza MediaPipe pose\n",
    "mp_pose = mp.solutions.pose\n",
    "pose = mp_pose.Pose(static_image_mode=False)\n",
    "mp_drawing = mp.solutions.drawing_utils\n",
    "\n",
    "# Avvia la webcam\n",
    "cap = cv2.VideoCapture(0)\n",
    "\n",
    "def get_forehead_roi(image, landmarks, w, h):\n",
    "    # Usa punti tra occhi e naso per definire la fronte\n",
    "    if landmarks[0].visibility < 0.5 or landmarks[1].visibility < 0.5 or landmarks[2].visibility < 0.5:\n",
    "        return None\n",
    "\n",
    "    # Landmark occhi e naso\n",
    "    left_eye = landmarks[2]     # LEFT_EYE\n",
    "    right_eye = landmarks[5]    # RIGHT_EYE\n",
    "    nose = landmarks[0]         # NOSE\n",
    "\n",
    "    # Coordinate pixel\n",
    "    x = int((left_eye.x + right_eye.x) / 2 * w)\n",
    "    y = int((nose.y - 0.1) * h)  # un po' sopra il naso = fronte\n",
    "\n",
    "    roi_size = 30\n",
    "    x1, y1 = max(0, x - roi_size), max(0, y - roi_size)\n",
    "    x2, y2 = min(w, x + roi_size), min(h, y + roi_size)\n",
    "\n",
    "    return x1, y1, x2, y2\n",
    "\n",
    "while True:\n",
    "    ret, frame = cap.read()\n",
    "    if not ret:\n",
    "        break\n",
    "\n",
    "    h, w, _ = frame.shape\n",
    "    rgb = cv2.cvtColor(frame, cv2.COLOR_BGR2RGB)\n",
    "    results = pose.process(rgb)\n",
    "\n",
    "    if results.pose_landmarks:\n",
    "        mp_drawing.draw_landmarks(frame, results.pose_landmarks, mp_pose.POSE_CONNECTIONS)\n",
    "\n",
    "        # Ottieni bounding box della fronte\n",
    "        roi_coords = get_forehead_roi(frame, results.pose_landmarks.landmark, w, h)\n",
    "        if roi_coords:\n",
    "            x1, y1, x2, y2 = roi_coords\n",
    "            forehead_roi = frame[y1:y2, x1:x2]\n",
    "            gray = cv2.cvtColor(forehead_roi, cv2.COLOR_BGR2GRAY)\n",
    "            intensity = np.mean(gray)\n",
    "            temperature = 34 + (intensity / 255.0) * 4\n",
    "\n",
    "            # Visualizza ROI e temperatura\n",
    "            cv2.rectangle(frame, (x1, y1), (x2, y2), (0, 255, 0), 2)\n",
    "            cv2.putText(frame, f\"{temperature:.2f} C\", (x1, y1 - 10),\n",
    "                        cv2.FONT_HERSHEY_SIMPLEX, 0.6, (0, 255, 0), 2)\n",
    "        else:\n",
    "            cv2.putText(frame, \"Fronte non trovata\", (10, 30),\n",
    "                        cv2.FONT_HERSHEY_SIMPLEX, 0.6, (0, 0, 255), 2)\n",
    "\n",
    "    cv2.imshow(\"Temperatura fronte (MediaPipe)\", frame)\n",
    "    if cv2.waitKey(1) & 0xFF == ord('q'):\n",
    "        break\n",
    "\n",
    "cap.release()\n",
    "cv2.destroyAllWindows()\n"
   ]
  },
  {
   "cell_type": "markdown",
   "id": "e41c5a35",
   "metadata": {},
   "source": [
    "READING PATCH FILES "
   ]
  },
  {
   "cell_type": "code",
   "execution_count": 21,
   "id": "c316f16a",
   "metadata": {},
   "outputs": [
    {
     "name": "stdout",
     "output_type": "stream",
     "text": [
      "Temperatura media file 1: 32.77°C\n",
      "Temperatura media file 2: 32.77°C\n"
     ]
    }
   ],
   "source": [
    "import pandas as pd\n",
    "\n",
    "# Percorsi dei file sul tuo PC (usa raw string oppure raddoppia i backslash)\n",
    "file1 = r\"C:\\Users\\utente\\Desktop\\MAGISTRALE\\HEALTH DATA SCIENCE\\n-health-lab\\07 - temperature\\1.csv\"\n",
    "file2 = r\"C:\\Users\\utente\\Desktop\\MAGISTRALE\\HEALTH DATA SCIENCE\\n-health-lab\\07 - temperature\\2.csv\"\n",
    "\n",
    "\n",
    "# Leggi i file\n",
    "df1 = pd.read_csv(file1)\n",
    "df2 = pd.read_csv(file2)\n",
    "\n",
    "# Filtra i dati validi\n",
    "df1_valid = df1[df1[\"valid\"] == True]\n",
    "df2_valid = df2[df2[\"valid\"] == True]\n",
    "\n",
    "# Calcola le medie\n",
    "media1 = df1_valid[\"temperatureProcessed\"].mean()\n",
    "media2 = df2_valid[\"temperatureProcessed\"].mean()\n",
    "\n",
    "# Stampa i risultati\n",
    "print(f\"Temperatura media file 1: {media1:.2f}°C\")\n",
    "print(f\"Temperatura media file 2: {media2:.2f}°C\")\n"
   ]
  },
  {
   "cell_type": "markdown",
   "id": "175fcae9",
   "metadata": {},
   "source": [
    "DO IT WITH THREE VALUES  // n values "
   ]
  },
  {
   "cell_type": "code",
   "execution_count": 22,
   "id": "3adeb43f",
   "metadata": {},
   "outputs": [
    {
     "name": "stdout",
     "output_type": "stream",
     "text": [
      "Temperatura media file 1: 32.77°C\n",
      "Temperatura media file 2: 32.77°C\n",
      "Temperatura media file 3: 36.29°C\n",
      "Temperatura media complessiva: 35.60°C\n"
     ]
    }
   ],
   "source": [
    "import pandas as pd\n",
    "\n",
    "# Percorsi dei file (modifica con i nomi reali dei file)\n",
    "file1 = r\"C:\\Users\\utente\\Desktop\\MAGISTRALE\\HEALTH DATA SCIENCE\\n-health-lab\\07 - temperature\\1.csv\"\n",
    "file2 = r\"C:\\Users\\utente\\Desktop\\MAGISTRALE\\HEALTH DATA SCIENCE\\n-health-lab\\07 - temperature\\2.csv\"\n",
    "file3 = r\"C:\\Users\\utente\\Desktop\\MAGISTRALE\\HEALTH DATA SCIENCE\\n-health-lab\\07 - temperature\\steadytemp_test.csv\"\n",
    "\n",
    "# Carica i dati\n",
    "df1 = pd.read_csv(file1)\n",
    "df2 = pd.read_csv(file2)\n",
    "df3 = pd.read_csv(file3)\n",
    "\n",
    "# Filtra solo le righe valide\n",
    "df1_valid = df1[df1[\"valid\"] == True]\n",
    "df2_valid = df2[df2[\"valid\"] == True]\n",
    "df3_valid = df3[df3[\"valid\"] == True]\n",
    "\n",
    "# Calcola le medie individuali\n",
    "media1 = df1_valid[\"temperatureProcessed\"].mean()\n",
    "media2 = df2_valid[\"temperatureProcessed\"].mean()\n",
    "media3 = df3_valid[\"temperatureProcessed\"].mean()\n",
    "\n",
    "# Calcola la media combinata pesata (sulla base del numero di osservazioni valide)\n",
    "totale_valori = pd.concat([df1_valid[\"temperatureProcessed\"],\n",
    "                           df2_valid[\"temperatureProcessed\"],\n",
    "                           df3_valid[\"temperatureProcessed\"]])\n",
    "media_complessiva = totale_valori.mean()\n",
    "\n",
    "# Stampa i risultati\n",
    "print(f\"Temperatura media file 1: {media1:.2f}°C\")\n",
    "print(f\"Temperatura media file 2: {media2:.2f}°C\")\n",
    "print(f\"Temperatura media file 3: {media3:.2f}°C\")\n",
    "print(f\"Temperatura media complessiva: {media_complessiva:.2f}°C\")\n"
   ]
  },
  {
   "cell_type": "markdown",
   "id": "ec61951c",
   "metadata": {},
   "source": [
    "live of the temperature steady \n"
   ]
  },
  {
   "cell_type": "code",
   "execution_count": 23,
   "id": "696c895a",
   "metadata": {},
   "outputs": [
    {
     "name": "stdout",
     "output_type": "stream",
     "text": [
      "Requirement already satisfied: bleak in c:\\users\\utente\\appdata\\local\\programs\\python\\python39\\lib\\site-packages (1.1.0)\n",
      "Requirement already satisfied: async-timeout>=3.0.0; python_version < \"3.11\" in c:\\users\\utente\\appdata\\local\\programs\\python\\python39\\lib\\site-packages (from bleak) (5.0.1)\n",
      "Requirement already satisfied: typing-extensions>=4.7.0; python_version < \"3.12\" in c:\\users\\utente\\appdata\\roaming\\python\\python39\\site-packages (from bleak) (4.12.2)\n",
      "Requirement already satisfied: winrt-Windows.Devices.Bluetooth>=3.1; platform_system == \"Windows\" in c:\\users\\utente\\appdata\\local\\programs\\python\\python39\\lib\\site-packages (from bleak) (3.2.1)\n",
      "Requirement already satisfied: winrt-Windows.Devices.Enumeration>=3.1; platform_system == \"Windows\" in c:\\users\\utente\\appdata\\local\\programs\\python\\python39\\lib\\site-packages (from bleak) (3.2.1)\n",
      "Requirement already satisfied: winrt-Windows.Foundation.Collections>=3.1; platform_system == \"Windows\" in c:\\users\\utente\\appdata\\local\\programs\\python\\python39\\lib\\site-packages (from bleak) (3.2.1)\n",
      "Requirement already satisfied: winrt-runtime>=3.1; platform_system == \"Windows\" in c:\\users\\utente\\appdata\\local\\programs\\python\\python39\\lib\\site-packages (from bleak) (3.2.1)\n",
      "Requirement already satisfied: winrt-Windows.Foundation>=3.1; platform_system == \"Windows\" in c:\\users\\utente\\appdata\\local\\programs\\python\\python39\\lib\\site-packages (from bleak) (3.2.1)\n",
      "Requirement already satisfied: winrt-Windows.Devices.Bluetooth.GenericAttributeProfile>=3.1; platform_system == \"Windows\" in c:\\users\\utente\\appdata\\local\\programs\\python\\python39\\lib\\site-packages (from bleak) (3.2.1)\n",
      "Requirement already satisfied: winrt-Windows.Storage.Streams>=3.1; platform_system == \"Windows\" in c:\\users\\utente\\appdata\\local\\programs\\python\\python39\\lib\\site-packages (from bleak) (3.2.1)\n",
      "Requirement already satisfied: winrt-Windows.Devices.Bluetooth.Advertisement>=3.1; platform_system == \"Windows\" in c:\\users\\utente\\appdata\\local\\programs\\python\\python39\\lib\\site-packages (from bleak) (3.2.1)\n",
      "Note: you may need to restart the kernel to use updated packages.\n"
     ]
    },
    {
     "name": "stderr",
     "output_type": "stream",
     "text": [
      "WARNING: You are using pip version 20.2.3; however, version 25.2 is available.\n",
      "You should consider upgrading via the 'c:\\Users\\utente\\AppData\\Local\\Programs\\Python\\Python39\\python.exe -m pip install --upgrade pip' command.\n"
     ]
    }
   ],
   "source": [
    "%pip install bleak\n"
   ]
  },
  {
   "cell_type": "markdown",
   "id": "4d926cd1",
   "metadata": {},
   "source": [
    "visualizzazione del sensore "
   ]
  },
  {
   "cell_type": "code",
   "execution_count": 15,
   "id": "b090129e",
   "metadata": {},
   "outputs": [
    {
     "ename": "RuntimeError",
     "evalue": "asyncio.run() cannot be called from a running event loop",
     "output_type": "error",
     "traceback": [
      "\u001b[31m---------------------------------------------------------------------------\u001b[39m",
      "\u001b[31mRuntimeError\u001b[39m                              Traceback (most recent call last)",
      "\u001b[36mCell\u001b[39m\u001b[36m \u001b[39m\u001b[32mIn[15]\u001b[39m\u001b[32m, line 10\u001b[39m\n\u001b[32m      7\u001b[39m     \u001b[38;5;28;01mfor\u001b[39;00m d \u001b[38;5;129;01min\u001b[39;00m devices:\n\u001b[32m      8\u001b[39m         \u001b[38;5;28mprint\u001b[39m(\u001b[33mf\u001b[39m\u001b[33m\"\u001b[39m\u001b[38;5;132;01m{\u001b[39;00md.name\u001b[38;5;132;01m}\u001b[39;00m\u001b[33m - \u001b[39m\u001b[38;5;132;01m{\u001b[39;00md.address\u001b[38;5;132;01m}\u001b[39;00m\u001b[33m - RSSI: \u001b[39m\u001b[38;5;132;01m{\u001b[39;00md.rssi\u001b[38;5;132;01m}\u001b[39;00m\u001b[33m\"\u001b[39m)\n\u001b[32m---> \u001b[39m\u001b[32m10\u001b[39m \u001b[43masyncio\u001b[49m\u001b[43m.\u001b[49m\u001b[43mrun\u001b[49m\u001b[43m(\u001b[49m\u001b[43mscan\u001b[49m\u001b[43m(\u001b[49m\u001b[43m)\u001b[49m\u001b[43m)\u001b[49m\n",
      "\u001b[36mFile \u001b[39m\u001b[32m~\\AppData\\Local\\Programs\\Python\\Python313\\Lib\\asyncio\\runners.py:190\u001b[39m, in \u001b[36mrun\u001b[39m\u001b[34m(main, debug, loop_factory)\u001b[39m\n\u001b[32m    161\u001b[39m \u001b[38;5;250m\u001b[39m\u001b[33;03m\"\"\"Execute the coroutine and return the result.\u001b[39;00m\n\u001b[32m    162\u001b[39m \n\u001b[32m    163\u001b[39m \u001b[33;03mThis function runs the passed coroutine, taking care of\u001b[39;00m\n\u001b[32m   (...)\u001b[39m\u001b[32m    186\u001b[39m \u001b[33;03m    asyncio.run(main())\u001b[39;00m\n\u001b[32m    187\u001b[39m \u001b[33;03m\"\"\"\u001b[39;00m\n\u001b[32m    188\u001b[39m \u001b[38;5;28;01mif\u001b[39;00m events._get_running_loop() \u001b[38;5;129;01mis\u001b[39;00m \u001b[38;5;129;01mnot\u001b[39;00m \u001b[38;5;28;01mNone\u001b[39;00m:\n\u001b[32m    189\u001b[39m     \u001b[38;5;66;03m# fail fast with short traceback\u001b[39;00m\n\u001b[32m--> \u001b[39m\u001b[32m190\u001b[39m     \u001b[38;5;28;01mraise\u001b[39;00m \u001b[38;5;167;01mRuntimeError\u001b[39;00m(\n\u001b[32m    191\u001b[39m         \u001b[33m\"\u001b[39m\u001b[33masyncio.run() cannot be called from a running event loop\u001b[39m\u001b[33m\"\u001b[39m)\n\u001b[32m    193\u001b[39m \u001b[38;5;28;01mwith\u001b[39;00m Runner(debug=debug, loop_factory=loop_factory) \u001b[38;5;28;01mas\u001b[39;00m runner:\n\u001b[32m    194\u001b[39m     \u001b[38;5;28;01mreturn\u001b[39;00m runner.run(main)\n",
      "\u001b[31mRuntimeError\u001b[39m: asyncio.run() cannot be called from a running event loop"
     ]
    }
   ],
   "source": [
    "import asyncio\n",
    "from bleak import BleakScanner\n",
    "\n",
    "async def scan():\n",
    "    print(\"🔍 Scanning BLE devices...\")\n",
    "    devices = await BleakScanner.discover()\n",
    "    for d in devices:\n",
    "        print(f\"{d.name} - {d.address} - RSSI: {d.rssi}\")\n",
    "\n",
    "asyncio.run(scan())\n"
   ]
  },
  {
   "cell_type": "code",
   "execution_count": 16,
   "id": "93be2e26",
   "metadata": {},
   "outputs": [
    {
     "ename": "RuntimeError",
     "evalue": "asyncio.run() cannot be called from a running event loop",
     "output_type": "error",
     "traceback": [
      "\u001b[31m---------------------------------------------------------------------------\u001b[39m",
      "\u001b[31mRuntimeError\u001b[39m                              Traceback (most recent call last)",
      "\u001b[36mCell\u001b[39m\u001b[36m \u001b[39m\u001b[32mIn[16]\u001b[39m\u001b[32m, line 1\u001b[39m\n\u001b[32m----> \u001b[39m\u001b[32m1\u001b[39m \u001b[43masyncio\u001b[49m\u001b[43m.\u001b[49m\u001b[43mrun\u001b[49m\u001b[43m(\u001b[49m\u001b[43mscan\u001b[49m\u001b[43m(\u001b[49m\u001b[43m)\u001b[49m\u001b[43m)\u001b[49m\n",
      "\u001b[36mFile \u001b[39m\u001b[32m~\\AppData\\Local\\Programs\\Python\\Python313\\Lib\\asyncio\\runners.py:190\u001b[39m, in \u001b[36mrun\u001b[39m\u001b[34m(main, debug, loop_factory)\u001b[39m\n\u001b[32m    161\u001b[39m \u001b[38;5;250m\u001b[39m\u001b[33;03m\"\"\"Execute the coroutine and return the result.\u001b[39;00m\n\u001b[32m    162\u001b[39m \n\u001b[32m    163\u001b[39m \u001b[33;03mThis function runs the passed coroutine, taking care of\u001b[39;00m\n\u001b[32m   (...)\u001b[39m\u001b[32m    186\u001b[39m \u001b[33;03m    asyncio.run(main())\u001b[39;00m\n\u001b[32m    187\u001b[39m \u001b[33;03m\"\"\"\u001b[39;00m\n\u001b[32m    188\u001b[39m \u001b[38;5;28;01mif\u001b[39;00m events._get_running_loop() \u001b[38;5;129;01mis\u001b[39;00m \u001b[38;5;129;01mnot\u001b[39;00m \u001b[38;5;28;01mNone\u001b[39;00m:\n\u001b[32m    189\u001b[39m     \u001b[38;5;66;03m# fail fast with short traceback\u001b[39;00m\n\u001b[32m--> \u001b[39m\u001b[32m190\u001b[39m     \u001b[38;5;28;01mraise\u001b[39;00m \u001b[38;5;167;01mRuntimeError\u001b[39;00m(\n\u001b[32m    191\u001b[39m         \u001b[33m\"\u001b[39m\u001b[33masyncio.run() cannot be called from a running event loop\u001b[39m\u001b[33m\"\u001b[39m)\n\u001b[32m    193\u001b[39m \u001b[38;5;28;01mwith\u001b[39;00m Runner(debug=debug, loop_factory=loop_factory) \u001b[38;5;28;01mas\u001b[39;00m runner:\n\u001b[32m    194\u001b[39m     \u001b[38;5;28;01mreturn\u001b[39;00m runner.run(main)\n",
      "\u001b[31mRuntimeError\u001b[39m: asyncio.run() cannot be called from a running event loop"
     ]
    }
   ],
   "source": [
    "asyncio.run(scan())"
   ]
  },
  {
   "cell_type": "code",
   "execution_count": 24,
   "id": "4c357c0a",
   "metadata": {},
   "outputs": [
    {
     "name": "stdout",
     "output_type": "stream",
     "text": [
      "🔍 Scanning BLE devices...\n"
     ]
    },
    {
     "ename": "BleakError",
     "evalue": "Thread is configured for Windows GUI but callbacks are not working.",
     "output_type": "error",
     "traceback": [
      "\u001b[31m---------------------------------------------------------------------------\u001b[39m",
      "\u001b[31mCancelledError\u001b[39m                            Traceback (most recent call last)",
      "\u001b[36mFile \u001b[39m\u001b[32mc:\\Users\\utente\\Desktop\\MAGISTRALE\\HEALTH DATA SCIENCE\\n-health-lab\\.venv\\Lib\\site-packages\\bleak\\backends\\winrt\\util.py:166\u001b[39m, in \u001b[36massert_mta\u001b[39m\u001b[34m()\u001b[39m\n\u001b[32m    165\u001b[39m     \u001b[38;5;28;01masync\u001b[39;00m \u001b[38;5;28;01mwith\u001b[39;00m async_timeout(\u001b[32m0.5\u001b[39m):\n\u001b[32m--> \u001b[39m\u001b[32m166\u001b[39m         \u001b[38;5;28;01mawait\u001b[39;00m event.wait()\n\u001b[32m    167\u001b[39m \u001b[38;5;28;01mexcept\u001b[39;00m asyncio.TimeoutError:\n",
      "\u001b[36mFile \u001b[39m\u001b[32m~\\AppData\\Local\\Programs\\Python\\Python313\\Lib\\asyncio\\locks.py:213\u001b[39m, in \u001b[36mEvent.wait\u001b[39m\u001b[34m(self)\u001b[39m\n\u001b[32m    212\u001b[39m \u001b[38;5;28;01mtry\u001b[39;00m:\n\u001b[32m--> \u001b[39m\u001b[32m213\u001b[39m     \u001b[38;5;28;01mawait\u001b[39;00m fut\n\u001b[32m    214\u001b[39m     \u001b[38;5;28;01mreturn\u001b[39;00m \u001b[38;5;28;01mTrue\u001b[39;00m\n",
      "\u001b[31mCancelledError\u001b[39m: ",
      "\nThe above exception was the direct cause of the following exception:\n",
      "\u001b[31mTimeoutError\u001b[39m                              Traceback (most recent call last)",
      "\u001b[36mFile \u001b[39m\u001b[32mc:\\Users\\utente\\Desktop\\MAGISTRALE\\HEALTH DATA SCIENCE\\n-health-lab\\.venv\\Lib\\site-packages\\bleak\\backends\\winrt\\util.py:165\u001b[39m, in \u001b[36massert_mta\u001b[39m\u001b[34m()\u001b[39m\n\u001b[32m    164\u001b[39m \u001b[38;5;28;01mtry\u001b[39;00m:\n\u001b[32m--> \u001b[39m\u001b[32m165\u001b[39m     \u001b[38;5;28;01masync\u001b[39;00m \u001b[38;5;28;01mwith\u001b[39;00m async_timeout(\u001b[32m0.5\u001b[39m):\n\u001b[32m    166\u001b[39m         \u001b[38;5;28;01mawait\u001b[39;00m event.wait()\n",
      "\u001b[36mFile \u001b[39m\u001b[32m~\\AppData\\Local\\Programs\\Python\\Python313\\Lib\\asyncio\\timeouts.py:116\u001b[39m, in \u001b[36mTimeout.__aexit__\u001b[39m\u001b[34m(self, exc_type, exc_val, exc_tb)\u001b[39m\n\u001b[32m    115\u001b[39m \u001b[38;5;28;01mif\u001b[39;00m \u001b[38;5;28missubclass\u001b[39m(exc_type, exceptions.CancelledError):\n\u001b[32m--> \u001b[39m\u001b[32m116\u001b[39m     \u001b[38;5;28;01mraise\u001b[39;00m \u001b[38;5;167;01mTimeoutError\u001b[39;00m \u001b[38;5;28;01mfrom\u001b[39;00m\u001b[38;5;250m \u001b[39m\u001b[34;01mexc_val\u001b[39;00m\n\u001b[32m    117\u001b[39m \u001b[38;5;28;01melif\u001b[39;00m exc_val \u001b[38;5;129;01mis\u001b[39;00m \u001b[38;5;129;01mnot\u001b[39;00m \u001b[38;5;28;01mNone\u001b[39;00m:\n",
      "\u001b[31mTimeoutError\u001b[39m: ",
      "\nDuring handling of the above exception, another exception occurred:\n",
      "\u001b[31mBleakError\u001b[39m                                Traceback (most recent call last)",
      "\u001b[36mCell\u001b[39m\u001b[36m \u001b[39m\u001b[32mIn[24]\u001b[39m\u001b[32m, line 10\u001b[39m\n\u001b[32m      7\u001b[39m     \u001b[38;5;28;01mfor\u001b[39;00m d \u001b[38;5;129;01min\u001b[39;00m devices:\n\u001b[32m      8\u001b[39m         \u001b[38;5;28mprint\u001b[39m(\u001b[33mf\u001b[39m\u001b[33m\"\u001b[39m\u001b[38;5;132;01m{\u001b[39;00md.name\u001b[38;5;132;01m}\u001b[39;00m\u001b[33m - \u001b[39m\u001b[38;5;132;01m{\u001b[39;00md.address\u001b[38;5;132;01m}\u001b[39;00m\u001b[33m - RSSI: \u001b[39m\u001b[38;5;132;01m{\u001b[39;00md.rssi\u001b[38;5;132;01m}\u001b[39;00m\u001b[33m\"\u001b[39m)\n\u001b[32m---> \u001b[39m\u001b[32m10\u001b[39m \u001b[38;5;28;01mawait\u001b[39;00m scan() \n",
      "\u001b[36mCell\u001b[39m\u001b[36m \u001b[39m\u001b[32mIn[24]\u001b[39m\u001b[32m, line 6\u001b[39m, in \u001b[36mscan\u001b[39m\u001b[34m()\u001b[39m\n\u001b[32m      4\u001b[39m \u001b[38;5;28;01masync\u001b[39;00m \u001b[38;5;28;01mdef\u001b[39;00m\u001b[38;5;250m \u001b[39m\u001b[34mscan\u001b[39m():\n\u001b[32m      5\u001b[39m     \u001b[38;5;28mprint\u001b[39m(\u001b[33m\"\u001b[39m\u001b[33m🔍 Scanning BLE devices...\u001b[39m\u001b[33m\"\u001b[39m)\n\u001b[32m----> \u001b[39m\u001b[32m6\u001b[39m     devices = \u001b[38;5;28;01mawait\u001b[39;00m BleakScanner.discover()\n\u001b[32m      7\u001b[39m     \u001b[38;5;28;01mfor\u001b[39;00m d \u001b[38;5;129;01min\u001b[39;00m devices:\n\u001b[32m      8\u001b[39m         \u001b[38;5;28mprint\u001b[39m(\u001b[33mf\u001b[39m\u001b[33m\"\u001b[39m\u001b[38;5;132;01m{\u001b[39;00md.name\u001b[38;5;132;01m}\u001b[39;00m\u001b[33m - \u001b[39m\u001b[38;5;132;01m{\u001b[39;00md.address\u001b[38;5;132;01m}\u001b[39;00m\u001b[33m - RSSI: \u001b[39m\u001b[38;5;132;01m{\u001b[39;00md.rssi\u001b[38;5;132;01m}\u001b[39;00m\u001b[33m\"\u001b[39m)\n",
      "\u001b[36mFile \u001b[39m\u001b[32mc:\\Users\\utente\\Desktop\\MAGISTRALE\\HEALTH DATA SCIENCE\\n-health-lab\\.venv\\Lib\\site-packages\\bleak\\__init__.py:320\u001b[39m, in \u001b[36mBleakScanner.discover\u001b[39m\u001b[34m(cls, timeout, return_adv, **kwargs)\u001b[39m\n\u001b[32m    297\u001b[39m \u001b[38;5;129m@classmethod\u001b[39m\n\u001b[32m    298\u001b[39m \u001b[38;5;28;01masync\u001b[39;00m \u001b[38;5;28;01mdef\u001b[39;00m\u001b[38;5;250m \u001b[39m\u001b[34mdiscover\u001b[39m(\n\u001b[32m    299\u001b[39m     \u001b[38;5;28mcls\u001b[39m, timeout=\u001b[32m5.0\u001b[39m, *, return_adv=\u001b[38;5;28;01mFalse\u001b[39;00m, **kwargs: Unpack[ExtraArgs]\n\u001b[32m    300\u001b[39m ):\n\u001b[32m    301\u001b[39m \u001b[38;5;250m    \u001b[39m\u001b[33;03m\"\"\"\u001b[39;00m\n\u001b[32m    302\u001b[39m \u001b[33;03m    Scan continuously for ``timeout`` seconds and return discovered devices.\u001b[39;00m\n\u001b[32m    303\u001b[39m \n\u001b[32m   (...)\u001b[39m\u001b[32m    318\u001b[39m \u001b[33;03m        Added ``return_adv`` parameter.\u001b[39;00m\n\u001b[32m    319\u001b[39m \u001b[33;03m    \"\"\"\u001b[39;00m\n\u001b[32m--> \u001b[39m\u001b[32m320\u001b[39m     \u001b[38;5;28;01masync\u001b[39;00m \u001b[38;5;28;01mwith\u001b[39;00m \u001b[38;5;28mcls\u001b[39m(**kwargs) \u001b[38;5;28;01mas\u001b[39;00m scanner:\n\u001b[32m    321\u001b[39m         \u001b[38;5;28;01mawait\u001b[39;00m asyncio.sleep(timeout)\n\u001b[32m    323\u001b[39m     \u001b[38;5;28;01mif\u001b[39;00m return_adv:\n",
      "\u001b[36mFile \u001b[39m\u001b[32mc:\\Users\\utente\\Desktop\\MAGISTRALE\\HEALTH DATA SCIENCE\\n-health-lab\\.venv\\Lib\\site-packages\\bleak\\__init__.py:158\u001b[39m, in \u001b[36mBleakScanner.__aenter__\u001b[39m\u001b[34m(self)\u001b[39m\n\u001b[32m    157\u001b[39m \u001b[38;5;28;01masync\u001b[39;00m \u001b[38;5;28;01mdef\u001b[39;00m\u001b[38;5;250m \u001b[39m\u001b[34m__aenter__\u001b[39m(\u001b[38;5;28mself\u001b[39m) -> BleakScanner:\n\u001b[32m--> \u001b[39m\u001b[32m158\u001b[39m     \u001b[38;5;28;01mawait\u001b[39;00m \u001b[38;5;28mself\u001b[39m._backend.start()\n\u001b[32m    159\u001b[39m     \u001b[38;5;28;01mreturn\u001b[39;00m \u001b[38;5;28mself\u001b[39m\n",
      "\u001b[36mFile \u001b[39m\u001b[32mc:\\Users\\utente\\Desktop\\MAGISTRALE\\HEALTH DATA SCIENCE\\n-health-lab\\.venv\\Lib\\site-packages\\bleak\\backends\\winrt\\scanner.py:225\u001b[39m, in \u001b[36mBleakScannerWinRT.start\u001b[39m\u001b[34m(self)\u001b[39m\n\u001b[32m    221\u001b[39m     \u001b[38;5;28;01mraise\u001b[39;00m BleakError(\u001b[33m\"\u001b[39m\u001b[33mScanner already started\u001b[39m\u001b[33m\"\u001b[39m)\n\u001b[32m    223\u001b[39m \u001b[38;5;66;03m# Callbacks for WinRT async methods will never happen in STA mode if\u001b[39;00m\n\u001b[32m    224\u001b[39m \u001b[38;5;66;03m# there is nothing pumping a Windows message loop.\u001b[39;00m\n\u001b[32m--> \u001b[39m\u001b[32m225\u001b[39m \u001b[38;5;28;01mawait\u001b[39;00m assert_mta()\n\u001b[32m    227\u001b[39m \u001b[38;5;66;03m# start with fresh list of discovered devices\u001b[39;00m\n\u001b[32m    228\u001b[39m \u001b[38;5;28mself\u001b[39m.seen_devices = {}\n",
      "\u001b[36mFile \u001b[39m\u001b[32mc:\\Users\\utente\\Desktop\\MAGISTRALE\\HEALTH DATA SCIENCE\\n-health-lab\\.venv\\Lib\\site-packages\\bleak\\backends\\winrt\\util.py:168\u001b[39m, in \u001b[36massert_mta\u001b[39m\u001b[34m()\u001b[39m\n\u001b[32m    166\u001b[39m         \u001b[38;5;28;01mawait\u001b[39;00m event.wait()\n\u001b[32m    167\u001b[39m \u001b[38;5;28;01mexcept\u001b[39;00m asyncio.TimeoutError:\n\u001b[32m--> \u001b[39m\u001b[32m168\u001b[39m     \u001b[38;5;28;01mraise\u001b[39;00m BleakError(\n\u001b[32m    169\u001b[39m         \u001b[33m\"\u001b[39m\u001b[33mThread is configured for Windows GUI but callbacks are not working.\u001b[39m\u001b[33m\"\u001b[39m\n\u001b[32m    170\u001b[39m         + (\n\u001b[32m    171\u001b[39m             \u001b[33m\"\u001b[39m\u001b[33m Suspect unwanted side effects from importing \u001b[39m\u001b[33m'\u001b[39m\u001b[33mpythoncom\u001b[39m\u001b[33m'\u001b[39m\u001b[33m.\u001b[39m\u001b[33m\"\u001b[39m\n\u001b[32m    172\u001b[39m             \u001b[38;5;28;01mif\u001b[39;00m \u001b[33m\"\u001b[39m\u001b[33mpythoncom\u001b[39m\u001b[33m\"\u001b[39m \u001b[38;5;129;01min\u001b[39;00m sys.modules\n\u001b[32m    173\u001b[39m             \u001b[38;5;28;01melse\u001b[39;00m \u001b[33m\"\u001b[39m\u001b[33m\"\u001b[39m\n\u001b[32m    174\u001b[39m         )\n\u001b[32m    175\u001b[39m     )\n\u001b[32m    176\u001b[39m \u001b[38;5;28;01melse\u001b[39;00m:\n\u001b[32m    177\u001b[39m     \u001b[38;5;66;03m# if the windows event loop is running, we assume it is going to keep\u001b[39;00m\n\u001b[32m    178\u001b[39m     \u001b[38;5;66;03m# running and we don't need to check again\u001b[39;00m\n\u001b[32m    179\u001b[39m     \u001b[38;5;28msetattr\u001b[39m(allow_sta, \u001b[33m\"\u001b[39m\u001b[33m_allowed\u001b[39m\u001b[33m\"\u001b[39m, \u001b[38;5;28;01mTrue\u001b[39;00m)\n",
      "\u001b[31mBleakError\u001b[39m: Thread is configured for Windows GUI but callbacks are not working."
     ]
    }
   ],
   "source": [
    "import asyncio\n",
    "from bleak import BleakScanner\n",
    "\n",
    "async def scan():\n",
    "    print(\"🔍 Scanning BLE devices...\")\n",
    "    devices = await BleakScanner.discover()\n",
    "    for d in devices:\n",
    "        print(f\"{d.name} - {d.address} - RSSI: {d.rssi}\")\n",
    "\n",
    "await scan() "
   ]
  },
  {
   "cell_type": "code",
   "execution_count": 31,
   "id": "21a3a452",
   "metadata": {},
   "outputs": [
    {
     "ename": "RuntimeError",
     "evalue": "asyncio.run() cannot be called from a running event loop",
     "output_type": "error",
     "traceback": [
      "\u001b[31m---------------------------------------------------------------------------\u001b[39m",
      "\u001b[31mRuntimeError\u001b[39m                              Traceback (most recent call last)",
      "\u001b[36mCell\u001b[39m\u001b[36m \u001b[39m\u001b[32mIn[31]\u001b[39m\u001b[32m, line 10\u001b[39m\n\u001b[32m      7\u001b[39m     \u001b[38;5;28;01mfor\u001b[39;00m d \u001b[38;5;129;01min\u001b[39;00m devices:\n\u001b[32m      8\u001b[39m         \u001b[38;5;28mprint\u001b[39m(\u001b[33mf\u001b[39m\u001b[33m\"\u001b[39m\u001b[38;5;132;01m{\u001b[39;00md.name\u001b[38;5;132;01m}\u001b[39;00m\u001b[33m - \u001b[39m\u001b[38;5;132;01m{\u001b[39;00md.address\u001b[38;5;132;01m}\u001b[39;00m\u001b[33m - RSSI: \u001b[39m\u001b[38;5;132;01m{\u001b[39;00md.rssi\u001b[38;5;132;01m}\u001b[39;00m\u001b[33m\"\u001b[39m)\n\u001b[32m---> \u001b[39m\u001b[32m10\u001b[39m \u001b[43masyncio\u001b[49m\u001b[43m.\u001b[49m\u001b[43mrun\u001b[49m\u001b[43m(\u001b[49m\u001b[43mscan\u001b[49m\u001b[43m(\u001b[49m\u001b[43m)\u001b[49m\u001b[43m)\u001b[49m\n",
      "\u001b[36mFile \u001b[39m\u001b[32m~\\AppData\\Local\\Programs\\Python\\Python313\\Lib\\asyncio\\runners.py:190\u001b[39m, in \u001b[36mrun\u001b[39m\u001b[34m(main, debug, loop_factory)\u001b[39m\n\u001b[32m    161\u001b[39m \u001b[38;5;250m\u001b[39m\u001b[33;03m\"\"\"Execute the coroutine and return the result.\u001b[39;00m\n\u001b[32m    162\u001b[39m \n\u001b[32m    163\u001b[39m \u001b[33;03mThis function runs the passed coroutine, taking care of\u001b[39;00m\n\u001b[32m   (...)\u001b[39m\u001b[32m    186\u001b[39m \u001b[33;03m    asyncio.run(main())\u001b[39;00m\n\u001b[32m    187\u001b[39m \u001b[33;03m\"\"\"\u001b[39;00m\n\u001b[32m    188\u001b[39m \u001b[38;5;28;01mif\u001b[39;00m events._get_running_loop() \u001b[38;5;129;01mis\u001b[39;00m \u001b[38;5;129;01mnot\u001b[39;00m \u001b[38;5;28;01mNone\u001b[39;00m:\n\u001b[32m    189\u001b[39m     \u001b[38;5;66;03m# fail fast with short traceback\u001b[39;00m\n\u001b[32m--> \u001b[39m\u001b[32m190\u001b[39m     \u001b[38;5;28;01mraise\u001b[39;00m \u001b[38;5;167;01mRuntimeError\u001b[39;00m(\n\u001b[32m    191\u001b[39m         \u001b[33m\"\u001b[39m\u001b[33masyncio.run() cannot be called from a running event loop\u001b[39m\u001b[33m\"\u001b[39m)\n\u001b[32m    193\u001b[39m \u001b[38;5;28;01mwith\u001b[39;00m Runner(debug=debug, loop_factory=loop_factory) \u001b[38;5;28;01mas\u001b[39;00m runner:\n\u001b[32m    194\u001b[39m     \u001b[38;5;28;01mreturn\u001b[39;00m runner.run(main)\n",
      "\u001b[31mRuntimeError\u001b[39m: asyncio.run() cannot be called from a running event loop"
     ]
    }
   ],
   "source": [
    "import asyncio\n",
    "from bleak import BleakScanner\n",
    "\n",
    "async def scan():\n",
    "    print(\"🔍 Scanning BLE devices per 10 secondi...\")\n",
    "    devices = await BleakScanner.discover(timeout=10.0)\n",
    "    for d in devices:\n",
    "        print(f\"{d.name} - {d.address} - RSSI: {d.rssi}\")\n",
    "\n",
    "asyncio.run(scan())"
   ]
  },
  {
   "cell_type": "markdown",
   "id": "09a159a2",
   "metadata": {},
   "source": [
    "finding the Mac with 3rd party "
   ]
  },
  {
   "cell_type": "markdown",
   "id": "ae8bf528",
   "metadata": {},
   "source": [
    "POSSIBLE MACs\n",
    "8C:79:F5:1C:7E:14\n"
   ]
  },
  {
   "cell_type": "code",
   "execution_count": 24,
   "id": "43300d12",
   "metadata": {},
   "outputs": [
    {
     "ename": "NameError",
     "evalue": "name 'CHAR_UUID' is not defined",
     "output_type": "error",
     "traceback": [
      "\u001b[1;31m---------------------------------------------------------------------------\u001b[0m",
      "\u001b[1;31mNameError\u001b[0m                                 Traceback (most recent call last)",
      "Cell \u001b[1;32mIn[24], line 12\u001b[0m\n\u001b[0;32m      9\u001b[0m         value \u001b[38;5;241m=\u001b[39m \u001b[38;5;28;01mawait\u001b[39;00m client\u001b[38;5;241m.\u001b[39mread_gatt_char(char_uuid)\n\u001b[0;32m     10\u001b[0m         \u001b[38;5;28mprint\u001b[39m(\u001b[38;5;124m\"\u001b[39m\u001b[38;5;124mTemperatura:\u001b[39m\u001b[38;5;124m\"\u001b[39m, \u001b[38;5;28mint\u001b[39m\u001b[38;5;241m.\u001b[39mfrom_bytes(value, byteorder\u001b[38;5;241m=\u001b[39m\u001b[38;5;124m'\u001b[39m\u001b[38;5;124mlittle\u001b[39m\u001b[38;5;124m'\u001b[39m) \u001b[38;5;241m/\u001b[39m \u001b[38;5;241m100\u001b[39m)\n\u001b[1;32m---> 12\u001b[0m asyncio\u001b[38;5;241m.\u001b[39mrun(read_data(ADDRESS, \u001b[43mCHAR_UUID\u001b[49m))\n",
      "\u001b[1;31mNameError\u001b[0m: name 'CHAR_UUID' is not defined"
     ]
    }
   ],
   "source": [
    "import asyncio\n",
    "from bleak import BleakClient\n",
    "\n",
    "ADDRESS = \"8C:79:F5:1C:7E:14\"  # Inserisci MAC del sensore\n",
    "\n",
    "\n",
    "async def read_data(address, char_uuid):\n",
    "    async with BleakClient(address) as client:\n",
    "        value = await client.read_gatt_char(char_uuid)\n",
    "        print(\"Temperatura:\", int.from_bytes(value, byteorder='little') / 100)\n",
    "\n",
    "asyncio.run(read_data(ADDRESS, CHAR_UUID))\n"
   ]
  }
 ],
 "metadata": {
  "kernelspec": {
   "display_name": "Python 3",
   "language": "python",
   "name": "python3"
  },
  "language_info": {
   "codemirror_mode": {
    "name": "ipython",
    "version": 3
   },
   "file_extension": ".py",
   "mimetype": "text/x-python",
   "name": "python",
   "nbconvert_exporter": "python",
   "pygments_lexer": "ipython3",
   "version": "3.9.4"
  }
 },
 "nbformat": 4,
 "nbformat_minor": 5
}
